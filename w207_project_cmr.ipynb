{
 "cells": [
  {
   "cell_type": "markdown",
   "metadata": {},
   "source": [
    "# Bike Sharing Demand Kaggle project\n",
    "\n",
    "W207 Final Project\n",
    "\n",
    "Chris Murray, Rahul Ragunathan, Rajagopalan Mahadevan\n",
    "\n",
    "https://www.kaggle.com/c/bike-sharing-demand/\n"
   ]
  },
  {
   "cell_type": "code",
   "execution_count": 1,
   "metadata": {
    "collapsed": true
   },
   "outputs": [],
   "source": [
    "# This tells matplotlib not to try opening a new window for each plot.\n",
    "%matplotlib inline\n",
    "\n",
    "# General libraries.\n",
    "import numpy as np\n",
    "import matplotlib.pyplot as plt\n",
    "import datetime as dt\n",
    "\n",
    "# SK-learn libraries for learning.\n",
    "from sklearn.pipeline import Pipeline\n",
    "from sklearn.neighbors import KNeighborsClassifier\n",
    "from sklearn.grid_search import GridSearchCV\n",
    "from sklearn.tree import DecisionTreeClassifier\n",
    "from sklearn.ensemble import RandomForestClassifier \n",
    "\n",
    "# SK-learn libraries for evaluation.\n",
    "from sklearn.metrics import confusion_matrix\n",
    "from sklearn import metrics\n",
    "from sklearn.metrics import classification_report"
   ]
  },
  {
   "cell_type": "markdown",
   "metadata": {},
   "source": [
    "## Define a function to read data file\n",
    "\n",
    "Data fields are described here: https://www.kaggle.com/c/bike-sharing-demand/data\n",
    "\n",
    "Note that we extract several features from the datatime field and ignore other fields.  Our final data fields are as follows:\n",
    "\n",
    "`month,dayofweek,hour,holiday,weather,temp,humidity,windspeed`"
   ]
  },
  {
   "cell_type": "code",
   "execution_count": 2,
   "metadata": {
    "collapsed": false
   },
   "outputs": [],
   "source": [
    "def read_timestamps(filename):\n",
    "    datafile = open(filename)\n",
    "    timestamps = np.genfromtxt(datafile, delimiter=\",\", skip_header=1, dtype=str, usecols=0)\n",
    "\n",
    "    months = []\n",
    "    daysofweek = []\n",
    "    hours = []\n",
    "   \n",
    "    for t in timestamps:\n",
    "        t = dt.datetime.strptime(t, '%Y-%m-%d %H:%M:%S')\n",
    "        months.append(t.month)\n",
    "        daysofweek.append(t.weekday())\n",
    "        hours.append(t.hour)\n",
    "        \n",
    "    months = np.array(months)\n",
    "    daysofweek = np.array(daysofweek)\n",
    "    hours = np.array(hours)\n",
    "    \n",
    "    return timestamps, months, daysofweek, hours\n",
    "\n",
    "\n",
    "def read_data(filename):\n",
    "    # define a conversion function to convert string to float and round to integer\n",
    "    getRounded = lambda x: int(round(float(x)))\n",
    "\n",
    "    # read data file and convert everything to integers\n",
    "    # columns: 0=datetime,1=season,2=holiday,3=workingday,4=weather,5=temp,6=atemp,7=humidity,8=windspeed\n",
    "\n",
    "    datafile = open(filename)\n",
    "    data = np.genfromtxt(datafile, delimiter=\",\", skip_header=1, dtype=int, usecols=(1,3,4,6,7,8),\n",
    "                converters= {5: getRounded, 6: getRounded, 8: getRounded})\n",
    "\n",
    "    # read and convert timestamps from file\n",
    "    timestamps, months, daysofweek, hours = read_timestamps(filename)\n",
    "\n",
    "    # insert timedata into our data array\n",
    "    data = np.insert(data, 0, months, axis=1)\n",
    "    data = np.insert(data, 1, daysofweek, axis=1)\n",
    "    data = np.insert(data, 2, hours, axis=1)\n",
    "    \n",
    "    return data, timestamps\n",
    "\n",
    "\n",
    "def read_labels(filename):\n",
    "    # read data file and convert everything to integers\n",
    "    # columns:  9=casual,10=registered,11=count\n",
    "\n",
    "    datafile = open(filename)\n",
    "    data = np.genfromtxt(datafile, delimiter=\",\", skip_header=1, dtype=int, usecols=(9,10,11))\n",
    "        \n",
    "    return data\n"
   ]
  },
  {
   "cell_type": "markdown",
   "metadata": {},
   "source": [
    "## Read training and test data"
   ]
  },
  {
   "cell_type": "code",
   "execution_count": 3,
   "metadata": {
    "collapsed": false
   },
   "outputs": [
    {
     "name": "stdout",
     "output_type": "stream",
     "text": [
      "Sample training data:\n",
      "[[ 1  5  0  1  0  1 14 81  0]\n",
      " [ 1  5  1  1  0  1 14 80  0]\n",
      " [ 1  5  2  1  0  1 14 80  0]\n",
      " [ 1  5  3  1  0  1 14 75  0]\n",
      " [ 1  5  4  1  0  1 14 75  0]]\n",
      "\n",
      "Sample training labels:\n",
      "[[ 3 13 16]\n",
      " [ 8 32 40]\n",
      " [ 5 27 32]\n",
      " [ 3 10 13]\n",
      " [ 0  1  1]]\n",
      "\n",
      "Sample test data:\n",
      "[[ 1  3  0  1  1  1 11 56 26]\n",
      " [ 1  3  1  1  1  1 14 56  0]\n",
      " [ 1  3  2  1  1  1 14 56  0]\n",
      " [ 1  3  3  1  1  1 13 56 11]\n",
      " [ 1  3  4  1  1  1 13 56 11]]\n"
     ]
    }
   ],
   "source": [
    "train_filename = \"data/train.csv\"\n",
    "test_filename = \"data/test.csv\"\n",
    "\n",
    "train_data, train_datetimes = read_data(train_filename)\n",
    "train_labels = read_labels(train_filename)\n",
    "\n",
    "# extract the last 3 columns (casual + registered = count)\n",
    "train_casual = train_labels[:, 0]\n",
    "train_registered = train_labels[:, 1]\n",
    "train_count = train_labels[:, 2]\n",
    "\n",
    "print \"Sample training data:\"\n",
    "print train_data[0:5]\n",
    "\n",
    "print \"\\nSample training labels:\"\n",
    "print train_labels[0:5]\n",
    "\n",
    "# read test data and print a sample\n",
    "test_data, test_datetimes = read_data(test_filename)\n",
    "print \"\\nSample test data:\"\n",
    "print test_data[0:5]\n"
   ]
  },
  {
   "cell_type": "markdown",
   "metadata": {},
   "source": [
    "## Define CSV output function"
   ]
  },
  {
   "cell_type": "code",
   "execution_count": 4,
   "metadata": {
    "collapsed": false
   },
   "outputs": [],
   "source": [
    "def writecsv(filename, predictions, datetime):\n",
    "    \n",
    "    # open output file and write header row\n",
    "    outfile = open(filename, \"w\")\n",
    "    outfile.write(\"datetime,count\\n\")\n",
    "\n",
    "    # output all the predictions to the file\n",
    "    for i in range(len(predictions)):\n",
    "        outfile.write(\"{},{}\\n\".format(datetime[i], preds[i]))\n",
    "\n",
    "    print \"{} results written to {}\".format(i, output_filename)\n"
   ]
  },
  {
   "cell_type": "markdown",
   "metadata": {},
   "source": [
    "## Generate predictions\n",
    "\n",
    "### K Nearest Neighbors"
   ]
  },
  {
   "cell_type": "code",
   "execution_count": 5,
   "metadata": {
    "collapsed": false
   },
   "outputs": [
    {
     "name": "stdout",
     "output_type": "stream",
     "text": [
      "6492 results written to submission_knn_1.csv\n",
      "6492 results written to submission_knn_3.csv\n",
      "6492 results written to submission_knn_5.csv\n",
      "6492 results written to submission_knn_7.csv\n",
      "6492 results written to submission_knn_9.csv\n"
     ]
    }
   ],
   "source": [
    "for k in [1,3,5,7,9]:\n",
    "    output_filename = 'submission_knn_{}.csv'.format(k)\n",
    "\n",
    "    # train a model and generate predictions\n",
    "    kn = KNeighborsClassifier(n_neighbors=k)\n",
    "    kn.fit(train_data, train_count)\n",
    "    preds = kn.predict(test_data)\n",
    "    \n",
    "    writecsv(output_filename, preds, test_datetimes)\n"
   ]
  },
  {
   "cell_type": "markdown",
   "metadata": {},
   "source": [
    "Kaggle submission results for KNN (k=1):  0.96793"
   ]
  },
  {
   "cell_type": "markdown",
   "metadata": {},
   "source": [
    "### Decision Tree"
   ]
  },
  {
   "cell_type": "code",
   "execution_count": 6,
   "metadata": {
    "collapsed": false
   },
   "outputs": [
    {
     "name": "stdout",
     "output_type": "stream",
     "text": [
      "6492 results written to submission_dtree.csv\n"
     ]
    }
   ],
   "source": [
    "output_filename = 'submission_dtree.csv'\n",
    "    \n",
    "# train a model and generate predictions\n",
    "clf = DecisionTreeClassifier(random_state=0)\n",
    "clf.fit(train_data, train_count)\n",
    "preds = clf.predict(test_data)\n",
    "\n",
    "writecsv(output_filename, preds, test_datetimes)\n"
   ]
  },
  {
   "cell_type": "markdown",
   "metadata": {},
   "source": [
    "Predict **casual** users and **registered** users separately and then add together to get total **count** of users."
   ]
  },
  {
   "cell_type": "markdown",
   "metadata": {},
   "source": [
    "Kaggle submission results for Decision Tree: 0.62940"
   ]
  },
  {
   "cell_type": "code",
   "execution_count": 7,
   "metadata": {
    "collapsed": false
   },
   "outputs": [
    {
     "name": "stdout",
     "output_type": "stream",
     "text": [
      "6492 results written to submission_dtree_separate.csv\n"
     ]
    }
   ],
   "source": [
    "output_filename = 'submission_dtree_separate.csv'\n",
    "\n",
    "# train a model and generate predictions\n",
    "clf = DecisionTreeClassifier(random_state=0)\n",
    "clf.fit(train_data, train_casual)\n",
    "preds_casual = clf.predict(test_data)\n",
    "\n",
    "clf = DecisionTreeClassifier(random_state=0)\n",
    "clf.fit(train_data, train_registered)\n",
    "preds_registered = clf.predict(test_data)\n",
    "\n",
    "preds = preds_casual + preds_registered\n",
    "\n",
    "writecsv(output_filename, preds, test_datetimes)\n"
   ]
  },
  {
   "cell_type": "markdown",
   "metadata": {},
   "source": [
    "Kaggle submission results for Decision Tree with separate predictions: 0.58618"
   ]
  },
  {
   "cell_type": "markdown",
   "metadata": {},
   "source": [
    "### Random Forest"
   ]
  },
  {
   "cell_type": "code",
   "execution_count": 8,
   "metadata": {
    "collapsed": false
   },
   "outputs": [
    {
     "name": "stdout",
     "output_type": "stream",
     "text": [
      "6492 results written to submission_rforest_10.csv\n",
      "6492 results written to submission_rforest_50.csv\n",
      "6492 results written to submission_rforest_100.csv\n"
     ]
    }
   ],
   "source": [
    "for n in [10, 50, 100]:\n",
    "    output_filename = 'submission_rforest_{}.csv'.format(n)\n",
    "\n",
    "    # train a model and generate predictions\n",
    "    rfc = RandomForestClassifier(n_estimators=n)\n",
    "    rfc.fit(train_data, train_casual)\n",
    "    preds_casual = rfc.predict(test_data)\n",
    "\n",
    "    rfc = RandomForestClassifier(n_estimators=n)\n",
    "    rfc.fit(train_data, train_registered)\n",
    "    preds_registered = rfc.predict(test_data)\n",
    "\n",
    "    preds = preds_casual + preds_registered\n",
    "\n",
    "    writecsv(output_filename, preds, test_datetimes)\n"
   ]
  },
  {
   "cell_type": "markdown",
   "metadata": {},
   "source": [
    "Kaggle submission results for Random Forest (n=100): 0.65084"
   ]
  },
  {
   "cell_type": "code",
   "execution_count": null,
   "metadata": {
    "collapsed": true
   },
   "outputs": [],
   "source": []
  }
 ],
 "metadata": {
  "kernelspec": {
   "display_name": "Python 2",
   "language": "python",
   "name": "python2"
  },
  "language_info": {
   "codemirror_mode": {
    "name": "ipython",
    "version": 2
   },
   "file_extension": ".py",
   "mimetype": "text/x-python",
   "name": "python",
   "nbconvert_exporter": "python",
   "pygments_lexer": "ipython2",
   "version": "2.7.11"
  }
 },
 "nbformat": 4,
 "nbformat_minor": 0
}
