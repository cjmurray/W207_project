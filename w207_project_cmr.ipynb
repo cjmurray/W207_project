{
 "cells": [
  {
   "cell_type": "markdown",
   "metadata": {},
   "source": [
    "# Bike Sharing Demand Kaggle project\n",
    "\n",
    "W207 Final Project\n",
    "\n",
    "Chris Murray, Rahul Ragunathan, Rajagopalan Mahadevan\n",
    "\n",
    "https://www.kaggle.com/c/bike-sharing-demand/\n"
   ]
  },
  {
   "cell_type": "code",
   "execution_count": 12,
   "metadata": {
    "collapsed": true
   },
   "outputs": [],
   "source": [
    "# This tells matplotlib not to try opening a new window for each plot.\n",
    "%matplotlib inline\n",
    "\n",
    "# General libraries.\n",
    "import numpy as np\n",
    "import matplotlib.pyplot as plt\n",
    "\n",
    "# SK-learn libraries for learning.\n",
    "from sklearn.pipeline import Pipeline\n",
    "from sklearn.neighbors import KNeighborsClassifier\n",
    "from sklearn.grid_search import GridSearchCV\n",
    "\n",
    "# SK-learn libraries for evaluation.\n",
    "from sklearn.metrics import confusion_matrix\n",
    "from sklearn import metrics\n",
    "from sklearn.metrics import classification_report"
   ]
  },
  {
   "cell_type": "markdown",
   "metadata": {},
   "source": [
    "Data files have been downloaded into `data/` .\n",
    "\n",
    "Fields are described here: https://www.kaggle.com/c/bike-sharing-demand/data\n",
    "\n",
    "The last field **count** is what we are trying to predict."
   ]
  },
  {
   "cell_type": "code",
   "execution_count": 95,
   "metadata": {
    "collapsed": false
   },
   "outputs": [
    {
     "name": "stdout",
     "output_type": "stream",
     "text": [
      "datetime,season,holiday,workingday,weather,temp,atemp,humidity,windspeed,casual,registered,count\n",
      "\n",
      "[[ 0  1  0  0  1 10 14 81  0  3 13 16]\n",
      " [ 1  1  0  0  1  9 14 80  0  8 32 40]\n",
      " [ 2  1  0  0  1  9 14 80  0  5 27 32]\n",
      " [ 3  1  0  0  1 10 14 75  0  3 10 13]\n",
      " [ 4  1  0  0  1 10 14 75  0  0  1  1]]\n",
      "(10886, 11)\n",
      "\n",
      "datetime,season,holiday,workingday,weather,temp,atemp,humidity,windspeed\n",
      "\n",
      "[[ 0  1  0  1  1 11 11 56 26]\n",
      " [ 1  1  0  1  1 11 14 56  0]\n",
      " [ 2  1  0  1  1 11 14 56  0]\n",
      " [ 3  1  0  1  1 11 13 56 11]\n",
      " [ 4  1  0  1  1 11 13 56 11]]\n",
      "(6493, 9)\n"
     ]
    }
   ],
   "source": [
    "ff = \"data/train.csv\"\n",
    "f = open(ff)\n",
    "column_names = f.readline()\n",
    "\n",
    "print column_names\n",
    "\n",
    "# really simple function that returns the hour as an integer\n",
    "getHour = lambda x: int(x[11:13])\n",
    "\n",
    "# convert string to float and round to integer\n",
    "getRounded = lambda x: int(round(float(x)))\n",
    "\n",
    "# read data file and convert everything to integers\n",
    "data = np.genfromtxt(f, delimiter=\",\", dtype=int, converters=\n",
    "                {0: getHour, 5: getRounded, 6: getRounded, 8: getRounded})\n",
    "\n",
    "print data[0:5]\n",
    "\n",
    "# extract the last column (count) into y and all the features into X\n",
    "y, X = data[:, :1], data[:, 1:]\n",
    "\n",
    "print X.shape\n",
    "print\n",
    "\n",
    "ff_test = \"data/test.csv\"\n",
    "f_test = open(ff_test)\n",
    "column_names_test = f_test.readline()\n",
    "\n",
    "print column_names_test\n",
    "\n",
    "data_test = np.genfromtxt(f_test, delimiter=\",\", dtype=int, converters=\n",
    "                {0: getHour, 5: getRounded, 6: getRounded, 8: getRounded})\n",
    "\n",
    "print data_test[0:5]\n",
    "\n",
    "# note there are no labels here!\n",
    "X_test = data_test\n",
    "\n",
    "print X_test.shape"
   ]
  },
  {
   "cell_type": "markdown",
   "metadata": {},
   "source": [
    "NOTE: this is as far as I've gotten!  Below is from the Kaggle demo notebook from Dan.  -Chris"
   ]
  },
  {
   "cell_type": "markdown",
   "metadata": {},
   "source": [
    "Now, we train a model, let's just do KNN, no time to think!"
   ]
  },
  {
   "cell_type": "code",
   "execution_count": null,
   "metadata": {
    "collapsed": false
   },
   "outputs": [],
   "source": [
    "# to make this faster, just use the first 1000\n",
    "y_train, X_train = y[:1000], X[:1000, :]\n",
    "\n",
    "kn = KNeighborsClassifier(n_neighbors=1)\n",
    "\n",
    "kn.fit(X_train, y_train)\n",
    "\n",
    "# here's what we need to send back to Kaggle\n",
    "preds = kn.predict(X_test)"
   ]
  },
  {
   "cell_type": "markdown",
   "metadata": {},
   "source": [
    "Now we need to save the output to a textfile, and upload the results to kaggle!\n",
    "\n",
    "Read the data page to make you submission the right format:\n",
    "\n",
    "https://www.kaggle.com/c/digit-recognizer/data"
   ]
  },
  {
   "cell_type": "code",
   "execution_count": 7,
   "metadata": {
    "collapsed": false
   },
   "outputs": [
    {
     "name": "stdout",
     "output_type": "stream",
     "text": [
      "28000\n"
     ]
    }
   ],
   "source": [
    "test_lab_f = open(\"/Users/dancsi/Downloads/test_labeled.csv\", \"w\") # you will need to edit this directory\n",
    "\n",
    "idx = 0\n",
    "                 \n",
    "for pp in preds:\n",
    "    idx += 1\n",
    "    test_lab_f.write(str(int(pp)))\n",
    "    if idx < 28000:\n",
    "        test_lab_f.write(\"\\n\") # the if statement ensures that we don't end with a newline!\n",
    "    \n",
    "print idx\n",
    "\n",
    "test_lab_f.close()"
   ]
  },
  {
   "cell_type": "markdown",
   "metadata": {},
   "source": [
    "Well, that didn't work. I guess that is becuase the submission page lied. Here's the correct format (you can deduce this from the error message):"
   ]
  },
  {
   "cell_type": "code",
   "execution_count": 8,
   "metadata": {
    "collapsed": true
   },
   "outputs": [],
   "source": [
    "test_lab_f = open(\"/Users/dancsi/Downloads/test_labeled.csv\", \"w\") # you will need to edit this directory\n",
    "\n",
    "test_lab_f.write(\"ImageId,Label\")\n",
    "\n",
    "idx = 0\n",
    "                 \n",
    "for pp in preds:\n",
    "    idx += 1\n",
    "    test_lab_f.write(\"\\n\")\n",
    "    test_lab_f.write(str(idx) + \",\" + str(int(pp)))\n",
    "   \n",
    "\n",
    "test_lab_f.close()"
   ]
  },
  {
   "cell_type": "code",
   "execution_count": null,
   "metadata": {
    "collapsed": true
   },
   "outputs": [],
   "source": []
  }
 ],
 "metadata": {
  "kernelspec": {
   "display_name": "Python 2",
   "language": "python",
   "name": "python2"
  },
  "language_info": {
   "codemirror_mode": {
    "name": "ipython",
    "version": 2
   },
   "file_extension": ".py",
   "mimetype": "text/x-python",
   "name": "python",
   "nbconvert_exporter": "python",
   "pygments_lexer": "ipython2",
   "version": "2.7.11"
  }
 },
 "nbformat": 4,
 "nbformat_minor": 0
}
