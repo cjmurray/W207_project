{
 "cells": [
  {
   "cell_type": "markdown",
   "metadata": {},
   "source": [
    "# Bike Sharing Demand Kaggle project\n",
    "\n",
    "W207 Final Project\n",
    "\n",
    "Chris Murray, Rahul Ragunathan, Rajagopalan Mahadevan\n",
    "\n",
    "https://www.kaggle.com/c/bike-sharing-demand/\n"
   ]
  },
  {
   "cell_type": "code",
   "execution_count": 34,
   "metadata": {
    "collapsed": true
   },
   "outputs": [],
   "source": [
    "# This tells matplotlib not to try opening a new window for each plot.\n",
    "%matplotlib inline\n",
    "\n",
    "# General libraries.\n",
    "import numpy as np\n",
    "import matplotlib.pyplot as plt\n",
    "\n",
    "# SK-learn libraries for learning.\n",
    "from sklearn.pipeline import Pipeline\n",
    "from sklearn.neighbors import KNeighborsClassifier\n",
    "from sklearn.grid_search import GridSearchCV\n",
    "from sklearn.tree import DecisionTreeClassifier\n",
    "from sklearn.ensemble import RandomForestClassifier \n",
    "\n",
    "# SK-learn libraries for evaluation.\n",
    "from sklearn.metrics import confusion_matrix\n",
    "from sklearn import metrics\n",
    "from sklearn.metrics import classification_report"
   ]
  },
  {
   "cell_type": "markdown",
   "metadata": {},
   "source": [
    "## Define a function to read data file\n",
    "\n",
    "Note that we delete the **holiday** and **temp** columns and instead use **workingday** and **atemp**."
   ]
  },
  {
   "cell_type": "code",
   "execution_count": 35,
   "metadata": {
    "collapsed": true
   },
   "outputs": [],
   "source": [
    "# really simple function that returns the hour as an integer\n",
    "getHour = lambda x: int(x[11:13])\n",
    "\n",
    "# convert string to float and round to integer\n",
    "getRounded = lambda x: int(round(float(x)))\n",
    "\n",
    "def readdata(filename):\n",
    "    # open the training file and extract column names\n",
    "    datafile = open(filename)\n",
    "    headers = datafile.readline()\n",
    "\n",
    "    # read data file and convert everything to integers\n",
    "    data = np.genfromtxt(datafile, skip_header=1, delimiter=\",\", dtype=int, converters=\n",
    "                    {0: getHour, 5: getRounded, 6: getRounded, 8: getRounded})\n",
    "\n",
    "    # delete the holiday column because it is correlated with workingday\n",
    "    data = np.delete(data, 2, 1)\n",
    "\n",
    "    # delete the temp column because it is correlated with atemp\n",
    "    data = np.delete(data, 4, 1)\n",
    "\n",
    "    return data\n"
   ]
  },
  {
   "cell_type": "markdown",
   "metadata": {},
   "source": [
    "## Read training data"
   ]
  },
  {
   "cell_type": "code",
   "execution_count": 36,
   "metadata": {
    "collapsed": false
   },
   "outputs": [
    {
     "name": "stdout",
     "output_type": "stream",
     "text": [
      "Sample training data:\n",
      "[[ 1  1  0  1 14 80  0]\n",
      " [ 2  1  0  1 14 80  0]\n",
      " [ 3  1  0  1 14 75  0]\n",
      " [ 4  1  0  1 14 75  0]\n",
      " [ 5  1  0  2 13 75  6]]\n",
      "\n",
      "Sample training labels (count):\n",
      "[40 32 13  1  1]\n"
     ]
    }
   ],
   "source": [
    "train_filename = \"data/train.csv\"\n",
    "\n",
    "train = readdata(train_filename)\n",
    "\n",
    "# extract all but the last 3 columns into train_data\n",
    "train_data = train[:, :-3]\n",
    "\n",
    "# extract the last 3 columns (casual + registered = count)\n",
    "train_casual = train[:, 7]\n",
    "train_registered = train[:, 8]\n",
    "train_count = train[:, 9]\n",
    "\n",
    "print \"Sample training data:\"\n",
    "print train_data[0:5]\n",
    "\n",
    "print \"\\nSample training labels (count):\"\n",
    "print train_count[0:5]\n"
   ]
  },
  {
   "cell_type": "markdown",
   "metadata": {},
   "source": [
    "## Read test data\n"
   ]
  },
  {
   "cell_type": "code",
   "execution_count": 21,
   "metadata": {
    "collapsed": false
   },
   "outputs": [
    {
     "name": "stdout",
     "output_type": "stream",
     "text": [
      "\n",
      "Test data headers:\n",
      "datetime,season,holiday,workingday,weather,temp,atemp,humidity,windspeed\n",
      "\n",
      "[[ 0  1  1  1 11 56 26]\n",
      " [ 1  1  1  1 14 56  0]\n",
      " [ 2  1  1  1 14 56  0]\n",
      " [ 3  1  1  1 13 56 11]\n",
      " [ 4  1  1  1 13 56 11]]\n"
     ]
    }
   ],
   "source": [
    "test_filename = \"data/test.csv\"\n",
    "\n",
    "test = readdata(test_filename)\n",
    "\n",
    "# re-read file to get just the datetime field\n",
    "test_file = open(test_filename)\n",
    "column_names_test = test_file.readline()\n",
    "\n",
    "test_datetimes = []\n",
    "for line in test_file.readlines():\n",
    "    datetime = line.split(',')[0]\n",
    "    test_datetimes.append(datetime)\n",
    "\n",
    "test_data = test\n",
    "    \n",
    "# print a sample of the test data\n",
    "print test_data[0:5]\n"
   ]
  },
  {
   "cell_type": "markdown",
   "metadata": {},
   "source": [
    "## Define CSV output function"
   ]
  },
  {
   "cell_type": "code",
   "execution_count": 22,
   "metadata": {
    "collapsed": false
   },
   "outputs": [],
   "source": [
    "def writecsv(filename, predictions):\n",
    "    \n",
    "    # open output file and write header row\n",
    "    outfile = open(filename, \"w\")\n",
    "    outfile.write(\"datetime,count\\n\")\n",
    "\n",
    "    # output all the predictions to the file\n",
    "    for i in range(len(predictions)):\n",
    "        outfile.write(\"{},{}\\n\".format(test_datetimes[i], preds[i]))\n",
    "\n",
    "    print \"{} results written to {}\".format(i, output_filename)\n"
   ]
  },
  {
   "cell_type": "markdown",
   "metadata": {},
   "source": [
    "## Generate predictions\n",
    "\n",
    "### K Nearest Neighbors"
   ]
  },
  {
   "cell_type": "code",
   "execution_count": 23,
   "metadata": {
    "collapsed": false
   },
   "outputs": [
    {
     "name": "stdout",
     "output_type": "stream",
     "text": [
      "6492 results written to submission_knn_1.csv\n",
      "6492 results written to submission_knn_3.csv\n",
      "6492 results written to submission_knn_5.csv\n",
      "6492 results written to submission_knn_7.csv\n",
      "6492 results written to submission_knn_9.csv\n"
     ]
    }
   ],
   "source": [
    "for k in [1,3,5,7,9]:\n",
    "    output_filename = 'submission_knn_{}.csv'.format(k)\n",
    "\n",
    "    # train a model and generate predictions\n",
    "    kn = KNeighborsClassifier(n_neighbors=k)\n",
    "    kn.fit(train_data, train_count)\n",
    "    preds = kn.predict(test_data)\n",
    "    \n",
    "    writecsv(output_filename, preds)\n"
   ]
  },
  {
   "cell_type": "markdown",
   "metadata": {},
   "source": [
    "Kaggle submission results for KNN (k=1):  0.96793"
   ]
  },
  {
   "cell_type": "markdown",
   "metadata": {},
   "source": [
    "### Decision Tree"
   ]
  },
  {
   "cell_type": "code",
   "execution_count": 27,
   "metadata": {
    "collapsed": false
   },
   "outputs": [
    {
     "name": "stdout",
     "output_type": "stream",
     "text": [
      "6492 results written to submission_dtree.csv\n"
     ]
    }
   ],
   "source": [
    "output_filename = 'submission_dtree.csv'\n",
    "    \n",
    "# train a model and generate predictions\n",
    "clf = DecisionTreeClassifier(random_state=0)\n",
    "clf.fit(train_data, train_count)\n",
    "preds = clf.predict(test_data)\n",
    "\n",
    "writecsv(output_filename, preds)\n"
   ]
  },
  {
   "cell_type": "markdown",
   "metadata": {},
   "source": [
    "Predict **casual** users and **registered** users separately and then add together to get total **count** of users."
   ]
  },
  {
   "cell_type": "markdown",
   "metadata": {},
   "source": [
    "Kaggle submission results for Decision Tree: 0.62940"
   ]
  },
  {
   "cell_type": "code",
   "execution_count": 28,
   "metadata": {
    "collapsed": false
   },
   "outputs": [
    {
     "name": "stdout",
     "output_type": "stream",
     "text": [
      "6492 results written to submission_dtree_separate.csv\n"
     ]
    }
   ],
   "source": [
    "output_filename = 'submission_dtree_separate.csv'\n",
    "\n",
    "# train a model and generate predictions\n",
    "clf = DecisionTreeClassifier(random_state=0)\n",
    "clf.fit(train_data, train_casual)\n",
    "preds_casual = clf.predict(test_data)\n",
    "\n",
    "clf = DecisionTreeClassifier(random_state=0)\n",
    "clf.fit(train_data, train_registered)\n",
    "preds_registered = clf.predict(test_data)\n",
    "\n",
    "preds = preds_casual + preds_registered\n",
    "\n",
    "writecsv(output_filename, preds)\n"
   ]
  },
  {
   "cell_type": "markdown",
   "metadata": {},
   "source": [
    "Kaggle submission results for Decision Tree with separate predictions: 0.58618"
   ]
  },
  {
   "cell_type": "markdown",
   "metadata": {},
   "source": [
    "### Random Forest"
   ]
  },
  {
   "cell_type": "code",
   "execution_count": 29,
   "metadata": {
    "collapsed": false
   },
   "outputs": [
    {
     "name": "stdout",
     "output_type": "stream",
     "text": [
      "6492 results written to submission_rforest_10.csv\n",
      "6492 results written to submission_rforest_50.csv\n",
      "6492 results written to submission_rforest_100.csv\n"
     ]
    }
   ],
   "source": [
    "for n in [10, 50, 100]:\n",
    "    output_filename = 'submission_rforest_{}.csv'.format(n)\n",
    "\n",
    "    # train a model and generate predictions\n",
    "    rfc = RandomForestClassifier(n_estimators=n)\n",
    "    rfc.fit(train_data, train_casual)\n",
    "    preds_casual = rfc.predict(test_data)\n",
    "\n",
    "    rfc = RandomForestClassifier(n_estimators=n)\n",
    "    rfc.fit(train_data, train_registered)\n",
    "    preds_registered = rfc.predict(test_data)\n",
    "\n",
    "    preds = preds_casual + preds_registered\n",
    "\n",
    "    writecsv(output_filename, preds)\n"
   ]
  },
  {
   "cell_type": "markdown",
   "metadata": {},
   "source": [
    "Kaggle submission results for Random Forest (n=100): 0.65084"
   ]
  },
  {
   "cell_type": "code",
   "execution_count": null,
   "metadata": {
    "collapsed": true
   },
   "outputs": [],
   "source": []
  }
 ],
 "metadata": {
  "kernelspec": {
   "display_name": "Python 2",
   "language": "python",
   "name": "python2"
  },
  "language_info": {
   "codemirror_mode": {
    "name": "ipython",
    "version": 2
   },
   "file_extension": ".py",
   "mimetype": "text/x-python",
   "name": "python",
   "nbconvert_exporter": "python",
   "pygments_lexer": "ipython2",
   "version": "2.7.11"
  }
 },
 "nbformat": 4,
 "nbformat_minor": 0
}
