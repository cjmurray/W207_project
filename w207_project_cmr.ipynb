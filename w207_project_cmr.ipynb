{
 "cells": [
  {
   "cell_type": "markdown",
   "metadata": {},
   "source": [
    "# Bike Sharing Demand Kaggle project\n",
    "\n",
    "W207 Final Project\n",
    "\n",
    "Chris Murray, Rahul Ragunathan, Rajagopalan Mahadevan\n",
    "\n",
    "https://www.kaggle.com/c/bike-sharing-demand/\n"
   ]
  },
  {
   "cell_type": "code",
   "execution_count": 57,
   "metadata": {
    "collapsed": true
   },
   "outputs": [],
   "source": [
    "# This tells matplotlib not to try opening a new window for each plot.\n",
    "%matplotlib inline\n",
    "\n",
    "# General libraries.\n",
    "import numpy as np\n",
    "import matplotlib.pyplot as plt\n",
    "\n",
    "# SK-learn libraries for learning.\n",
    "from sklearn.pipeline import Pipeline\n",
    "from sklearn.neighbors import KNeighborsClassifier\n",
    "from sklearn.grid_search import GridSearchCV\n",
    "from sklearn.tree import DecisionTreeClassifier\n",
    "\n",
    "# SK-learn libraries for evaluation.\n",
    "from sklearn.metrics import confusion_matrix\n",
    "from sklearn import metrics\n",
    "from sklearn.metrics import classification_report"
   ]
  },
  {
   "cell_type": "markdown",
   "metadata": {},
   "source": [
    "## Read training data\n",
    "\n",
    "Data files have been downloaded into `data/` .\n",
    "\n",
    "Fields are described here: https://www.kaggle.com/c/bike-sharing-demand/data\n",
    "\n",
    "The last field **count** is what we are trying to predict.  It is equal to **casual + registered**."
   ]
  },
  {
   "cell_type": "code",
   "execution_count": 75,
   "metadata": {
    "collapsed": false
   },
   "outputs": [
    {
     "name": "stdout",
     "output_type": "stream",
     "text": [
      "Train data headers:\n",
      "datetime,season,holiday,workingday,weather,temp,atemp,humidity,windspeed,casual,registered,count\n",
      "\n",
      "[[ 0  1  0  0  1 10 14 81  0  3 13 16]\n",
      " [ 1  1  0  0  1  9 14 80  0  8 32 40]\n",
      " [ 2  1  0  0  1  9 14 80  0  5 27 32]\n",
      " [ 3  1  0  0  1 10 14 75  0  3 10 13]\n",
      " [ 4  1  0  0  1 10 14 75  0  0  1  1]]\n",
      "\n",
      "Sample training data:\n",
      "[[ 0  1  0  0  1 10 14 81  0]\n",
      " [ 1  1  0  0  1  9 14 80  0]\n",
      " [ 2  1  0  0  1  9 14 80  0]\n",
      " [ 3  1  0  0  1 10 14 75  0]\n",
      " [ 4  1  0  0  1 10 14 75  0]]\n",
      "\n",
      "Sample training labels (count):\n",
      "[16 40 32 13  1]\n"
     ]
    }
   ],
   "source": [
    "train_filename = \"data/train.csv\"\n",
    "test_filename = \"data/test.csv\"\n",
    "\n",
    "# open the training file and extract column names\n",
    "train_file = open(train_filename)\n",
    "column_names_train = train_file.readline()\n",
    "\n",
    "# really simple function that returns the hour as an integer\n",
    "getHour = lambda x: int(x[11:13])\n",
    "\n",
    "# convert string to float and round to integer\n",
    "getRounded = lambda x: int(round(float(x)))\n",
    "\n",
    "# read data file and convert everything to integers\n",
    "train = np.genfromtxt(train_file, delimiter=\",\", dtype=int, converters=\n",
    "                {0: getHour, 5: getRounded, 6: getRounded, 8: getRounded})\n",
    "\n",
    "# print a sample of the train data\n",
    "print \"Train data headers:\"\n",
    "print column_names_train\n",
    "print train[0:5]\n",
    "print\n",
    "\n",
    "# extract all but the last 3 columns into train_data\n",
    "train_data = train[:, :-3]\n",
    "\n",
    "# extract the last 3 columns (casual + registered = count)\n",
    "train_casual = train[:, 9]\n",
    "train_registered = train[:, 10]\n",
    "train_count = train[:, 11]\n",
    "\n",
    "print \"Sample training data:\"\n",
    "print train_data[0:5]\n",
    "\n",
    "print \"\\nSample training labels (count):\"\n",
    "print train_count[0:5]\n"
   ]
  },
  {
   "cell_type": "markdown",
   "metadata": {},
   "source": [
    "## Read test data\n"
   ]
  },
  {
   "cell_type": "code",
   "execution_count": 53,
   "metadata": {
    "collapsed": false
   },
   "outputs": [
    {
     "name": "stdout",
     "output_type": "stream",
     "text": [
      "\n",
      "Test data headers:\n",
      "datetime,season,holiday,workingday,weather,temp,atemp,humidity,windspeed\n",
      "\n",
      "[[ 0  1  0  1  1 11 11 56 26]\n",
      " [ 1  1  0  1  1 11 14 56  0]\n",
      " [ 2  1  0  1  1 11 14 56  0]\n",
      " [ 3  1  0  1  1 11 13 56 11]\n",
      " [ 4  1  0  1  1 11 13 56 11]]\n"
     ]
    }
   ],
   "source": [
    "# open the test file and extract column names\n",
    "test_file = open(test_filename)\n",
    "column_names_test = test_file.readline()\n",
    "\n",
    "# read data file and convert everything to integers\n",
    "test_data = np.genfromtxt(test_file, delimiter=\",\", dtype=int, converters=\n",
    "                {0: getHour, 5: getRounded, 6: getRounded, 8: getRounded})\n",
    "    \n",
    "# print a sample of the test data\n",
    "print \"\\nTest data headers:\"\n",
    "print column_names_test\n",
    "print test_data[0:5]\n",
    "\n",
    "# re-read file to get just the datetime field\n",
    "test_file.seek(0)\n",
    "column_names_test = test_file.readline()\n",
    "\n",
    "test_datetimes = []\n",
    "for line in test_file.readlines():\n",
    "    datetime = line.split(',')[0]\n",
    "    test_datetimes.append(datetime)\n"
   ]
  },
  {
   "cell_type": "markdown",
   "metadata": {},
   "source": [
    "## Define CSV output function"
   ]
  },
  {
   "cell_type": "code",
   "execution_count": 70,
   "metadata": {
    "collapsed": false
   },
   "outputs": [],
   "source": [
    "def writecsv(filename, predictions):\n",
    "    \n",
    "    # open output file and write header row\n",
    "    outfile = open(filename, \"w\")\n",
    "    outfile.write(\"datetime,count\\n\")\n",
    "\n",
    "    # output all the predictions to the file\n",
    "    for i in range(len(predictions)):\n",
    "        outfile.write(\"{},{}\\n\".format(test_datetimes[i], preds[i]))\n",
    "\n",
    "    print \"{} results written to {}\".format(i, output_filename)\n"
   ]
  },
  {
   "cell_type": "markdown",
   "metadata": {},
   "source": [
    "## Generate predictions\n",
    "\n",
    "### K Nearest Neighbors"
   ]
  },
  {
   "cell_type": "code",
   "execution_count": 72,
   "metadata": {
    "collapsed": false
   },
   "outputs": [
    {
     "name": "stdout",
     "output_type": "stream",
     "text": [
      "6492 results written to submission_knn_1.csv\n",
      "6492 results written to submission_knn_3.csv\n",
      "6492 results written to submission_knn_5.csv\n",
      "6492 results written to submission_knn_7.csv\n",
      "6492 results written to submission_knn_9.csv\n"
     ]
    }
   ],
   "source": [
    "for k in [1,3,5,7,9]:\n",
    "    output_filename = 'submission_knn_{}.csv'.format(k)\n",
    "\n",
    "    # train a model and generate predictions\n",
    "    kn = KNeighborsClassifier(n_neighbors=k)\n",
    "    kn.fit(train_data, train_count)\n",
    "    preds = kn.predict(test_data)\n",
    "    \n",
    "    writecsv(output_filename, preds)\n"
   ]
  },
  {
   "cell_type": "markdown",
   "metadata": {},
   "source": [
    "### Decision Tree"
   ]
  },
  {
   "cell_type": "code",
   "execution_count": 77,
   "metadata": {
    "collapsed": false
   },
   "outputs": [
    {
     "name": "stdout",
     "output_type": "stream",
     "text": [
      "6492 results written to submission_dtree_1.csv\n"
     ]
    }
   ],
   "source": [
    "output_filename = 'submission_dtree_1.csv'\n",
    "    \n",
    "# train a model and generate predictions\n",
    "clf = DecisionTreeClassifier(random_state=0)\n",
    "clf.fit(train_data, train_count)\n",
    "preds = clf.predict(test_data)\n",
    "\n",
    "writecsv(output_filename, preds)\n"
   ]
  },
  {
   "cell_type": "markdown",
   "metadata": {},
   "source": [
    "Predict **casual** and **registered** separately and then add together to get **count**"
   ]
  },
  {
   "cell_type": "code",
   "execution_count": 78,
   "metadata": {
    "collapsed": false
   },
   "outputs": [
    {
     "name": "stdout",
     "output_type": "stream",
     "text": [
      "6492 results written to submission_dtree_2.csv\n"
     ]
    }
   ],
   "source": [
    "output_filename = 'submission_dtree_2.csv'\n",
    "\n",
    "# train a model and generate predictions\n",
    "clf = DecisionTreeClassifier(random_state=0)\n",
    "clf.fit(train_data, train_casual)\n",
    "preds_casual = clf.predict(test_data)\n",
    "\n",
    "clf = DecisionTreeClassifier(random_state=0)\n",
    "clf.fit(train_data, train_registered)\n",
    "preds_registered = clf.predict(test_data)\n",
    "\n",
    "preds = preds_casual + preds_registered\n",
    "\n",
    "writecsv(output_filename, preds)\n"
   ]
  },
  {
   "cell_type": "code",
   "execution_count": null,
   "metadata": {
    "collapsed": true
   },
   "outputs": [],
   "source": []
  }
 ],
 "metadata": {
  "kernelspec": {
   "display_name": "Python 2",
   "language": "python",
   "name": "python2"
  },
  "language_info": {
   "codemirror_mode": {
    "name": "ipython",
    "version": 2
   },
   "file_extension": ".py",
   "mimetype": "text/x-python",
   "name": "python",
   "nbconvert_exporter": "python",
   "pygments_lexer": "ipython2",
   "version": "2.7.11"
  }
 },
 "nbformat": 4,
 "nbformat_minor": 0
}
