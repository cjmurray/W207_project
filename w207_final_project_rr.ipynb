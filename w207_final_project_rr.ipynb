{
 "cells": [
  {
   "cell_type": "code",
   "execution_count": 184,
   "metadata": {
    "collapsed": true
   },
   "outputs": [],
   "source": [
    "# import libraries\n",
    "\n",
    "import numpy as np\n",
    "from sklearn.linear_model import LinearRegression\n",
    "from sklearn.ensemble import RandomForestClassifier "
   ]
  },
  {
   "cell_type": "code",
   "execution_count": 190,
   "metadata": {
    "collapsed": false
   },
   "outputs": [
    {
     "name": "stdout",
     "output_type": "stream",
     "text": [
      "[  1.      0.      0.      1.      9.02   13.635  80.      0.   ]\n",
      "40.0\n",
      "[  1.      0.      0.      1.     13.635  80.      0.   ]\n",
      "('2012-12-30 14:00:00', 1, 0, 0, 1, 12.3, 13.635, 36, 31.0009)\n"
     ]
    }
   ],
   "source": [
    "# read training data\n",
    "train_file_path = 'data/train.csv'\n",
    "\n",
    "#raw_train_data = np.genfromtxt(fname=train_file_path,delimiter=',',skip_header=1,dtype=None)\n",
    "train_data = np.genfromtxt(fname=train_file_path,delimiter=',',skip_header=1,dtype=float)\n",
    "train_labels = train_data[:,11]\n",
    "train_data = train_data[:,1:-3]\n",
    "print train_data[1]\n",
    "print train_labels[1]\n",
    "\n",
    "# delete \"temp\", keep \"atemp\"\n",
    "train_data = np.delete(train_data,4,1)\n",
    "print train_data[1]\n",
    "\n",
    "raw_test_data = np.genfromtxt(fname='data/test.csv',delimiter=',',skip_header=1,dtype=None)\n",
    "test_data = np.genfromtxt(fname='data/test.csv',delimiter=',',skip_header=1,dtype=float)\n",
    "test_data = test_data[:,1:]\n",
    "test_data = np.delete(test_data,4,1)\n",
    "print raw_test_data[6459]\n"
   ]
  },
  {
   "cell_type": "code",
   "execution_count": 193,
   "metadata": {
    "collapsed": false
   },
   "outputs": [
    {
     "name": "stdout",
     "output_type": "stream",
     "text": [
      "[ 94.  89.  89. ...,  80.  96.  69.]\n"
     ]
    }
   ],
   "source": [
    "# train GLM model\n",
    "lm = LinearRegression()\n",
    "lm.fit(train_data, train_labels)\n",
    "\n",
    "# make prediction\n",
    "preds_lm = np.round(lm.predict(test_data))\n",
    "preds_lm[preds_lm < 0] = 0\n",
    "print preds_lm"
   ]
  },
  {
   "cell_type": "code",
   "execution_count": 195,
   "metadata": {
    "collapsed": false
   },
   "outputs": [],
   "source": [
    "# write predictions to file\n",
    "\n",
    "out_file_path = 'predictions_lm.csv'\n",
    "out_file = open(out_file_path, \"w\")\n",
    "out_file.write(\"datetime,count\\n\")\n",
    "\n",
    "for i in range(len(preds)):\n",
    "    output = '{},{}\\n'.format(raw_test_data[i][0], np.int(preds_lm[i]))\n",
    "    out_file.write(output)\n",
    "\n",
    "out_file.close()"
   ]
  },
  {
   "cell_type": "code",
   "execution_count": 185,
   "metadata": {
    "collapsed": false
   },
   "outputs": [
    {
     "name": "stdout",
     "output_type": "stream",
     "text": [
      "[ 344.  102.  102. ...,   71.    2.    3.]\n"
     ]
    }
   ],
   "source": [
    "# train Random Forest\n",
    "rfc = RandomForestClassifier(n_estimators=100)\n",
    "rfc.fit(train_data, train_labels)\n",
    "\n",
    "# make prediction\n",
    "preds_rfc = np.round(rfc.predict(test_data))\n",
    "print preds_rfc"
   ]
  },
  {
   "cell_type": "code",
   "execution_count": 191,
   "metadata": {
    "collapsed": false
   },
   "outputs": [],
   "source": [
    "# write predictions to file\n",
    "\n",
    "out_file_path = 'predictions_rfc.csv'\n",
    "out_file = open(out_file_path, \"w\")\n",
    "out_file.write(\"datetime,count\\n\")\n",
    "\n",
    "for i in range(len(preds)):\n",
    "    output = '{},{}\\n'.format(raw_test_data[i][0], np.int(preds_rfc[i]))\n",
    "    out_file.write(output)\n",
    "\n",
    "out_file.close()"
   ]
  },
  {
   "cell_type": "code",
   "execution_count": null,
   "metadata": {
    "collapsed": true
   },
   "outputs": [],
   "source": []
  }
 ],
 "metadata": {
  "kernelspec": {
   "display_name": "Python 2",
   "language": "python",
   "name": "python2"
  },
  "language_info": {
   "codemirror_mode": {
    "name": "ipython",
    "version": 2
   },
   "file_extension": ".py",
   "mimetype": "text/x-python",
   "name": "python",
   "nbconvert_exporter": "python",
   "pygments_lexer": "ipython2",
   "version": "2.7.10"
  }
 },
 "nbformat": 4,
 "nbformat_minor": 0
}
